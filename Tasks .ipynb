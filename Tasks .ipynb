{
 "cells": [
  {
   "cell_type": "code",
   "execution_count": 14,
   "metadata": {},
   "outputs": [
    {
     "name": "stdout",
     "output_type": "stream",
     "text": [
      "2300000\n",
      "False\n",
      "True\n",
      "False\n",
      "True\n",
      "True\n",
      "700000\n"
     ]
    }
   ],
   "source": [
    "# Session 1 task 1\n",
    "TVSmart = 1000000\n",
    "LapTop = 1000000\n",
    "SmartPhone = 250000\n",
    "AirPods = 50000\n",
    "budget = 3000000\n",
    "print (TVSmart + LapTop + SmartPhone + AirPods)\n",
    "totalcost = 2300000\n",
    "print (totalcost == budget)\n",
    "print (totalcost != budget)\n",
    "print (totalcost > budget)\n",
    "print (totalcost < budget)\n",
    "print (totalcost <= budget)\n",
    "set1_Budget = {3000000}\n",
    "set2_totalcost = {2300000}\n",
    "print (budget - totalcost)"
   ]
  },
  {
   "cell_type": "code",
   "execution_count": 45,
   "metadata": {},
   "outputs": [
    {
     "name": "stdout",
     "output_type": "stream",
     "text": [
      "dict_keys(['Ahmed', 'Mohamed', 'Mostafa', 'Facebook', 'instagram', 'twitter'])\n",
      "02222222222\n"
     ]
    }
   ],
   "source": [
    "# Session 2 task 1\n",
    "contacts_dict = {'Ahmed': '01111111115','Mohamed':'02222222222','Mostafa':'03333333333',}\n",
    "contacts_dict['Facebook'] = 'AHM.Facebook'\n",
    "contacts_dict ['instagram'] = 'MOH. Insta'\n",
    "contacts_dict ['twitter'] = 'MOS.Twit'\n",
    "print (contacts_dict.keys())\n",
    "print (contacts_dict.get('Mohamed'))"
   ]
  },
  {
   "cell_type": "code",
   "execution_count": 27,
   "metadata": {},
   "outputs": [
    {
     "name": "stdout",
     "output_type": "stream",
     "text": [
      "['Moataz', 'Islam', 'Tarek', 'Ibrahim']\n"
     ]
    }
   ],
   "source": [
    "# Session 2 task 2\n",
    "dict1_names = ['Moataz', 'Islam', 'Tarek', 'Ibrahim']\n",
    "print(dict1_names[0:4])\n",
    "dict_grades = [[75, 80, 88],[66, 95, 70],[95, 85, 88],[60, 75, 98]]\n"
   ]
  },
  {
   "cell_type": "code",
   "execution_count": 7,
   "metadata": {},
   "outputs": [
    {
     "name": "stdout",
     "output_type": "stream",
     "text": [
      "It's a cool day. Wear a jacket!\n"
     ]
    }
   ],
   "source": [
    "# Session 3 Task1\n",
    "temp = 17\n",
    "if temp >= 30 :\n",
    "    print (\"It's a hot day. Stay hydrated!\")\n",
    "elif temp >= 20 and temp == 29 :\n",
    "    print (\"It's a warm day. Enjoy the weather!\")\n",
    "elif temp >= 10 and temp <= 19 :\n",
    "    print(\"It's a cool day. Wear a jacket!\")\n",
    "elif temp < 10 :\n",
    "    print(\"It's a cold day. Stay warm!\")"
   ]
  },
  {
   "cell_type": "code",
   "execution_count": 50,
   "metadata": {},
   "outputs": [
    {
     "name": "stdout",
     "output_type": "stream",
     "text": [
      "the number 3 is even\n",
      "the number 6 is even\n",
      "the number 9 is even\n",
      "the number 12 is even\n",
      "the number 15 is even\n",
      "the number 18 is even\n"
     ]
    }
   ],
   "source": [
    "# Session 3 Task2\n",
    "Number_list = [1, 2, 3, 4, 5, 6, 7, 8, 9, 10, 11, 12, 13, 14, 15, 16, 17, 18, 19, 20]\n",
    "for number in Number_list:\n",
    "    if number % 3 == 0:\n",
    "        print(f'the number {number} is even')\n"
   ]
  },
  {
   "cell_type": "code",
   "execution_count": 11,
   "metadata": {},
   "outputs": [
    {
     "name": "stdout",
     "output_type": "stream",
     "text": [
      "4\n",
      "5\n",
      "6\n",
      "7\n",
      "9\n",
      "11\n",
      "13\n",
      "17\n",
      "19\n",
      "23\n"
     ]
    }
   ],
   "source": [
    " # Task Session 4\n",
    "\n",
    "F = 4\n",
    "M = 24\n",
    "for num in range(F,M+1):\n",
    "    if (num > 1):\n",
    "        for H in range(4, num):\n",
    "            if (num % H) == 0:\n",
    "                break\n",
    "\n",
    "        else:\n",
    "            print(num)"
   ]
  },
  {
   "cell_type": "code",
   "execution_count": 9,
   "metadata": {},
   "outputs": [
    {
     "name": "stdout",
     "output_type": "stream",
     "text": [
      "5*5 = 25\n",
      "5*6 = 30\n",
      "5*7 = 35\n",
      "5*8 = 40\n",
      "5*9 = 45\n",
      "30-7 = 23\n",
      "30-8 = 22\n",
      "30-9 = 21\n",
      "30-10 = 20\n",
      "30-11 = 19\n",
      "30-12 = 18\n"
     ]
    }
   ],
   "source": [
    "def multiply(number):\n",
    "    for A in range(5,10):\n",
    "        print(f'{number}*{A} = {number * A}')\n",
    "\n",
    "multiply(5)\n",
    "\n",
    "\n",
    "def subtract(number):\n",
    "    for G in range(7, 13):\n",
    "        print(f'{number}-{G} = {number - G}')\n",
    "\n",
    "subtract(30)"
   ]
  }
 ],
 "metadata": {
  "kernelspec": {
   "display_name": "Python 3",
   "language": "python",
   "name": "python3"
  },
  "language_info": {
   "codemirror_mode": {
    "name": "ipython",
    "version": 3
   },
   "file_extension": ".py",
   "mimetype": "text/x-python",
   "name": "python",
   "nbconvert_exporter": "python",
   "pygments_lexer": "ipython3",
   "version": "3.13.1"
  }
 },
 "nbformat": 4,
 "nbformat_minor": 2
}
